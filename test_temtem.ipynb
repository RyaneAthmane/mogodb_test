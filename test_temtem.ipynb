{
 "cells": [
  {
   "cell_type": "markdown",
   "metadata": {},
   "source": [
    "# analyse exploratoire des données (EDA) "
   ]
  },
  {
   "cell_type": "markdown",
   "metadata": {},
   "source": [
    "Chargement des données et la conversion en DataFrames"
   ]
  },
  {
   "cell_type": "code",
   "execution_count": 4,
   "metadata": {},
   "outputs": [
    {
     "name": "stdout",
     "output_type": "stream",
     "text": [
      "Aperçu des utilisateurs:\n"
     ]
    },
    {
     "data": {
      "text/html": [
       "<div>\n",
       "<style scoped>\n",
       "    .dataframe tbody tr th:only-of-type {\n",
       "        vertical-align: middle;\n",
       "    }\n",
       "\n",
       "    .dataframe tbody tr th {\n",
       "        vertical-align: top;\n",
       "    }\n",
       "\n",
       "    .dataframe thead th {\n",
       "        text-align: right;\n",
       "    }\n",
       "</style>\n",
       "<table border=\"1\" class=\"dataframe\">\n",
       "  <thead>\n",
       "    <tr style=\"text-align: right;\">\n",
       "      <th></th>\n",
       "      <th>_id</th>\n",
       "      <th>first_name</th>\n",
       "      <th>last_name</th>\n",
       "      <th>email</th>\n",
       "      <th>gender</th>\n",
       "      <th>phone</th>\n",
       "      <th>transactions</th>\n",
       "    </tr>\n",
       "  </thead>\n",
       "  <tbody>\n",
       "    <tr>\n",
       "      <th>0</th>\n",
       "      <td>u1</td>\n",
       "      <td>Patricia</td>\n",
       "      <td>Rivers</td>\n",
       "      <td>moorechristopher@example.net</td>\n",
       "      <td>Other</td>\n",
       "      <td>473.326.7799</td>\n",
       "      <td>[t124, t1411]</td>\n",
       "    </tr>\n",
       "    <tr>\n",
       "      <th>1</th>\n",
       "      <td>u2</td>\n",
       "      <td>Rebekah</td>\n",
       "      <td>Watts</td>\n",
       "      <td>johnathandixon@example.org</td>\n",
       "      <td>None</td>\n",
       "      <td>+1-841-910-0552x738</td>\n",
       "      <td>[t67, t289, t491, t1156]</td>\n",
       "    </tr>\n",
       "    <tr>\n",
       "      <th>2</th>\n",
       "      <td>u3</td>\n",
       "      <td>Glenn</td>\n",
       "      <td>Costa</td>\n",
       "      <td>fthornton@example.net</td>\n",
       "      <td>Female</td>\n",
       "      <td>+12345678901234567890</td>\n",
       "      <td>[t1486]</td>\n",
       "    </tr>\n",
       "    <tr>\n",
       "      <th>3</th>\n",
       "      <td>u4</td>\n",
       "      <td>Terrance</td>\n",
       "      <td>Vargas</td>\n",
       "      <td>johnhawkins@example.com</td>\n",
       "      <td>Male</td>\n",
       "      <td>+1-662-899-0028x36983</td>\n",
       "      <td>[t1007, t2517]</td>\n",
       "    </tr>\n",
       "    <tr>\n",
       "      <th>4</th>\n",
       "      <td>u5</td>\n",
       "      <td>Christy</td>\n",
       "      <td>Martinez</td>\n",
       "      <td>donna87@example.org</td>\n",
       "      <td>Unknown</td>\n",
       "      <td>(455)402-6899x27376</td>\n",
       "      <td>[t1745, t2236]</td>\n",
       "    </tr>\n",
       "  </tbody>\n",
       "</table>\n",
       "</div>"
      ],
      "text/plain": [
       "  _id first_name last_name                         email   gender  \\\n",
       "0  u1   Patricia    Rivers  moorechristopher@example.net    Other   \n",
       "1  u2    Rebekah     Watts    johnathandixon@example.org     None   \n",
       "2  u3      Glenn     Costa         fthornton@example.net   Female   \n",
       "3  u4   Terrance    Vargas       johnhawkins@example.com     Male   \n",
       "4  u5    Christy  Martinez           donna87@example.org  Unknown   \n",
       "\n",
       "                   phone              transactions  \n",
       "0           473.326.7799             [t124, t1411]  \n",
       "1    +1-841-910-0552x738  [t67, t289, t491, t1156]  \n",
       "2  +12345678901234567890                   [t1486]  \n",
       "3  +1-662-899-0028x36983            [t1007, t2517]  \n",
       "4    (455)402-6899x27376            [t1745, t2236]  "
      ]
     },
     "metadata": {},
     "output_type": "display_data"
    },
    {
     "name": "stdout",
     "output_type": "stream",
     "text": [
      "\n",
      "Aperçu des transactions:\n"
     ]
    },
    {
     "data": {
      "text/html": [
       "<div>\n",
       "<style scoped>\n",
       "    .dataframe tbody tr th:only-of-type {\n",
       "        vertical-align: middle;\n",
       "    }\n",
       "\n",
       "    .dataframe tbody tr th {\n",
       "        vertical-align: top;\n",
       "    }\n",
       "\n",
       "    .dataframe thead th {\n",
       "        text-align: right;\n",
       "    }\n",
       "</style>\n",
       "<table border=\"1\" class=\"dataframe\">\n",
       "  <thead>\n",
       "    <tr style=\"text-align: right;\">\n",
       "      <th></th>\n",
       "      <th>_id</th>\n",
       "      <th>user_id</th>\n",
       "      <th>amount</th>\n",
       "      <th>timestamp</th>\n",
       "      <th>status</th>\n",
       "    </tr>\n",
       "  </thead>\n",
       "  <tbody>\n",
       "    <tr>\n",
       "      <th>0</th>\n",
       "      <td>t1</td>\n",
       "      <td>u16</td>\n",
       "      <td>483.22</td>\n",
       "      <td>2024-10-24T15:41:56.024309</td>\n",
       "      <td>SUCCESS</td>\n",
       "    </tr>\n",
       "    <tr>\n",
       "      <th>1</th>\n",
       "      <td>t2</td>\n",
       "      <td>u247</td>\n",
       "      <td>-17.64</td>\n",
       "      <td>2024-12-05T15:41:56.024344</td>\n",
       "      <td>None</td>\n",
       "    </tr>\n",
       "    <tr>\n",
       "      <th>2</th>\n",
       "      <td>t3</td>\n",
       "      <td>u484</td>\n",
       "      <td>18.73</td>\n",
       "      <td>2024-11-17T15:41:56.024359</td>\n",
       "      <td>FAILED</td>\n",
       "    </tr>\n",
       "    <tr>\n",
       "      <th>3</th>\n",
       "      <td>t4</td>\n",
       "      <td>u403</td>\n",
       "      <td>127.74</td>\n",
       "      <td>2024-11-12T15:41:56.024369</td>\n",
       "      <td>FAILED</td>\n",
       "    </tr>\n",
       "    <tr>\n",
       "      <th>4</th>\n",
       "      <td>t5</td>\n",
       "      <td>u604</td>\n",
       "      <td>384.01</td>\n",
       "      <td>2024-11-02T15:41:56.024378</td>\n",
       "      <td>Invalid</td>\n",
       "    </tr>\n",
       "  </tbody>\n",
       "</table>\n",
       "</div>"
      ],
      "text/plain": [
       "  _id user_id  amount                   timestamp   status\n",
       "0  t1     u16  483.22  2024-10-24T15:41:56.024309  SUCCESS\n",
       "1  t2    u247  -17.64  2024-12-05T15:41:56.024344     None\n",
       "2  t3    u484   18.73  2024-11-17T15:41:56.024359   FAILED\n",
       "3  t4    u403  127.74  2024-11-12T15:41:56.024369   FAILED\n",
       "4  t5    u604  384.01  2024-11-02T15:41:56.024378  Invalid"
      ]
     },
     "metadata": {},
     "output_type": "display_data"
    }
   ],
   "source": [
    "import json \n",
    "import pandas as pd \n",
    "\n",
    "with open('users_transactions_with_issues (2).json', 'r') as file:\n",
    "    data = json.load(file)\n",
    "\n",
    "# Conversion en DataFrames pour faciliter l'analyse exploratoire\n",
    "df_users = pd.DataFrame(data['users'])\n",
    "df_transactions = pd.DataFrame(data['transactions'])\n",
    "\n",
    "# Affichage des premiers enregistrements\n",
    "print(\"Aperçu des utilisateurs:\")\n",
    "display(df_users.head())\n",
    "print(\"\\nAperçu des transactions:\")\n",
    "display(df_transactions.head())"
   ]
  },
  {
   "cell_type": "markdown",
   "metadata": {},
   "source": [
    "Analyse exploratoire Statistiques Basique "
   ]
  },
  {
   "cell_type": "code",
   "execution_count": 7,
   "metadata": {},
   "outputs": [
    {
     "name": "stdout",
     "output_type": "stream",
     "text": [
      "Statistiques sur les utilisateurs:\n",
      "Nombre total d'utilisateurs: 1000\n",
      "Valeurs manquantes:\n",
      "_id             0\n",
      "first_name      0\n",
      "last_name       0\n",
      "email           0\n",
      "gender          0\n",
      "phone           0\n",
      "transactions    0\n",
      "dtype: int64\n"
     ]
    }
   ],
   "source": [
    "print(\"Statistiques sur les utilisateurs:\")\n",
    "print(f\"Nombre total d'utilisateurs: {len(df_users)}\")\n",
    "print(f\"Valeurs manquantes:\\n{df_users.isnull().sum()}\")\n"
   ]
  },
  {
   "cell_type": "code",
   "execution_count": 8,
   "metadata": {},
   "outputs": [
    {
     "name": "stdout",
     "output_type": "stream",
     "text": [
      "\n",
      "Statistiques sur les transactions:\n",
      "Nombre total de transactions: 3005\n",
      "Valeurs manquantes:\n",
      "_id           0\n",
      "user_id       0\n",
      "amount       41\n",
      "timestamp    48\n",
      "status       46\n",
      "dtype: int64\n"
     ]
    }
   ],
   "source": [
    "print(\"\\nStatistiques sur les transactions:\")\n",
    "print(f\"Nombre total de transactions: {len(df_transactions)}\")\n",
    "print(f\"Valeurs manquantes:\\n{df_transactions.isnull().sum()}\")"
   ]
  },
  {
   "cell_type": "markdown",
   "metadata": {},
   "source": [
    "## Analyse de la collection Users"
   ]
  },
  {
   "cell_type": "code",
   "execution_count": 9,
   "metadata": {},
   "outputs": [
    {
     "name": "stdout",
     "output_type": "stream",
     "text": [
      "=== ANALYSE DE LA COLLECTION USERS ===\n",
      "\n",
      "Structure du DataFrame users:\n",
      "<class 'pandas.core.frame.DataFrame'>\n",
      "RangeIndex: 1000 entries, 0 to 999\n",
      "Data columns (total 7 columns):\n",
      " #   Column        Non-Null Count  Dtype \n",
      "---  ------        --------------  ----- \n",
      " 0   _id           1000 non-null   object\n",
      " 1   first_name    1000 non-null   object\n",
      " 2   last_name     1000 non-null   object\n",
      " 3   email         1000 non-null   object\n",
      " 4   gender        1000 non-null   object\n",
      " 5   phone         1000 non-null   object\n",
      " 6   transactions  1000 non-null   object\n",
      "dtypes: object(7)\n",
      "memory usage: 54.8+ KB\n",
      "None\n"
     ]
    }
   ],
   "source": [
    "print(\"=== ANALYSE DE LA COLLECTION USERS ===\\n\")\n",
    "print(\"Structure du DataFrame users:\")\n",
    "print(df_users.info())"
   ]
  },
  {
   "cell_type": "code",
   "execution_count": 10,
   "metadata": {},
   "outputs": [
    {
     "name": "stdout",
     "output_type": "stream",
     "text": [
      "\n",
      "Statistiques descriptives:\n",
      "          _id first_name last_name             email gender           phone  \\\n",
      "count    1000       1000      1000              1000   1000            1000   \n",
      "unique   1000        403       530               941      6             904   \n",
      "top     u1000    Michael     Smith  invalidemail.com   None  abcd-efgh-ijkl   \n",
      "freq        1         22        25                22    182              28   \n",
      "\n",
      "       transactions  \n",
      "count          1000  \n",
      "unique          944  \n",
      "top              []  \n",
      "freq             57  \n"
     ]
    }
   ],
   "source": [
    "print(\"\\nStatistiques descriptives:\")\n",
    "print(df_users.describe(include='all'))\n"
   ]
  },
  {
   "cell_type": "code",
   "execution_count": 11,
   "metadata": {},
   "outputs": [
    {
     "name": "stdout",
     "output_type": "stream",
     "text": [
      "\n",
      "Valeurs manquantes par colonne:\n",
      "_id             0\n",
      "first_name      0\n",
      "last_name       0\n",
      "email           0\n",
      "gender          0\n",
      "phone           0\n",
      "transactions    0\n",
      "dtype: int64\n"
     ]
    }
   ],
   "source": [
    "print(\"\\nValeurs manquantes par colonne:\")\n",
    "missing_users = df_users.isnull().sum()\n",
    "print(missing_users)"
   ]
  },
  {
   "cell_type": "code",
   "execution_count": 12,
   "metadata": {},
   "outputs": [
    {
     "name": "stdout",
     "output_type": "stream",
     "text": [
      "\n",
      "Distribution des genres:\n",
      "gender\n",
      "None       182\n",
      "Other      178\n",
      "Unknown    170\n",
      "Male       161\n",
      "123        161\n",
      "Female     148\n",
      "Name: count, dtype: int64\n",
      "\n",
      "Pourcentage: gender\n",
      "None       0.182\n",
      "Other      0.178\n",
      "Unknown    0.170\n",
      "Male       0.161\n",
      "123        0.161\n",
      "Female     0.148\n",
      "Name: proportion, dtype: float64\n"
     ]
    }
   ],
   "source": [
    "# Analyse des colonnes spécifiques\n",
    "print(\"\\nDistribution des genres:\")\n",
    "print(df_users['gender'].value_counts())\n",
    "print(\"\\nPourcentage:\", df_users['gender'].value_counts(normalize=True))"
   ]
  },
  {
   "cell_type": "code",
   "execution_count": 15,
   "metadata": {},
   "outputs": [
    {
     "name": "stdout",
     "output_type": "stream",
     "text": [
      "\n",
      "Analyse des emails:\n",
      "Nombre d'emails uniques: 941\n",
      "Exemple des 10 premiers emails:\n",
      "0    moorechristopher@example.net\n",
      "1      johnathandixon@example.org\n",
      "2           fthornton@example.net\n",
      "3         johnhawkins@example.com\n",
      "4             donna87@example.org\n",
      "5             debra77@example.net\n",
      "6     kathrynmckinney@example.net\n",
      "7             jamie83@example.com\n",
      "8    samanthastephens@example.org\n",
      "9           graydebra@example.net\n",
      "Name: email, dtype: object\n"
     ]
    }
   ],
   "source": [
    "print(\"\\nAnalyse des emails:\")\n",
    "print(\"Nombre d'emails uniques:\", df_users['email'].nunique())\n",
    "print(\"Exemple des 10 premiers emails:\")\n",
    "print(df_users['email'].head(10))"
   ]
  },
  {
   "cell_type": "code",
   "execution_count": 16,
   "metadata": {},
   "outputs": [
    {
     "name": "stdout",
     "output_type": "stream",
     "text": [
      "\n",
      "Analyse des numéros de téléphone:\n",
      "Format des numéros (premiers exemples):\n",
      "0             473.326.7799\n",
      "1      +1-841-910-0552x738\n",
      "2    +12345678901234567890\n",
      "3    +1-662-899-0028x36983\n",
      "4      (455)402-6899x27376\n",
      "Name: phone, dtype: object\n",
      "\n",
      "Longueur des numéros de téléphone:\n",
      "phone\n",
      "0      24\n",
      "7      21\n",
      "10     73\n",
      "12    130\n",
      "13     76\n",
      "14     28\n",
      "15     30\n",
      "16    112\n",
      "17    125\n",
      "18    104\n",
      "19     62\n",
      "20     93\n",
      "21     90\n",
      "22     32\n",
      "Name: count, dtype: int64\n"
     ]
    }
   ],
   "source": [
    "# Analyse des numéros de téléphone\n",
    "print(\"\\nAnalyse des numéros de téléphone:\")\n",
    "print(\"Format des numéros (premiers exemples):\")\n",
    "print(df_users['phone'].head())\n",
    "phone_lengths = df_users['phone'].str.len()\n",
    "print(\"\\nLongueur des numéros de téléphone:\")\n",
    "print(phone_lengths.value_counts().sort_index())"
   ]
  },
  {
   "cell_type": "markdown",
   "metadata": {},
   "source": [
    "## Analyse de la collection Transactions"
   ]
  },
  {
   "cell_type": "code",
   "execution_count": 17,
   "metadata": {},
   "outputs": [
    {
     "name": "stdout",
     "output_type": "stream",
     "text": [
      "=== ANALYSE DE LA COLLECTION TRANSACTIONS ===\n",
      "\n",
      "Structure du DataFrame transactions:\n",
      "<class 'pandas.core.frame.DataFrame'>\n",
      "RangeIndex: 3005 entries, 0 to 3004\n",
      "Data columns (total 5 columns):\n",
      " #   Column     Non-Null Count  Dtype  \n",
      "---  ------     --------------  -----  \n",
      " 0   _id        3005 non-null   object \n",
      " 1   user_id    3005 non-null   object \n",
      " 2   amount     2964 non-null   float64\n",
      " 3   timestamp  2957 non-null   object \n",
      " 4   status     2959 non-null   object \n",
      "dtypes: float64(1), object(4)\n",
      "memory usage: 117.5+ KB\n",
      "None\n"
     ]
    }
   ],
   "source": [
    "print(\"=== ANALYSE DE LA COLLECTION TRANSACTIONS ===\\n\")\n",
    "print(\"Structure du DataFrame transactions:\")\n",
    "print(df_transactions.info())"
   ]
  },
  {
   "cell_type": "code",
   "execution_count": 19,
   "metadata": {},
   "outputs": [
    {
     "name": "stdout",
     "output_type": "stream",
     "text": [
      "\n",
      "Valeurs manquantes par colonne:\n",
      "_id           0\n",
      "user_id       0\n",
      "amount       41\n",
      "timestamp    48\n",
      "status       46\n",
      "dtype: int64\n"
     ]
    }
   ],
   "source": [
    "print(\"\\nValeurs manquantes par colonne:\")\n",
    "missing_transactions = df_transactions.isnull().sum()\n",
    "print(missing_transactions)"
   ]
  },
  {
   "cell_type": "code",
   "execution_count": 20,
   "metadata": {},
   "outputs": [
    {
     "name": "stdout",
     "output_type": "stream",
     "text": [
      "\n",
      "Analyse des montants:\n",
      "Statistiques des montants:\n",
      "count    2964.000000\n",
      "mean      205.267777\n",
      "std       190.952926\n",
      "min      -498.540000\n",
      "25%        64.520000\n",
      "50%       216.520000\n",
      "75%       362.065000\n",
      "max       499.460000\n",
      "Name: amount, dtype: float64\n",
      "\n",
      "Nombre de montants négatifs: 398\n",
      "Nombre de montants nuls: 0\n"
     ]
    }
   ],
   "source": [
    "# Analyse des montants\n",
    "print(\"\\nAnalyse des montants:\")\n",
    "print(\"Statistiques des montants:\")\n",
    "print(df_transactions['amount'].describe())\n",
    "print(\"\\nNombre de montants négatifs:\", (df_transactions['amount'] < 0).sum())\n",
    "print(\"Nombre de montants nuls:\", (df_transactions['amount'] == 0).sum())"
   ]
  },
  {
   "cell_type": "code",
   "execution_count": 21,
   "metadata": {},
   "outputs": [
    {
     "name": "stdout",
     "output_type": "stream",
     "text": [
      "\n",
      "Distribution des status:\n",
      "status\n",
      "SUCCESS    622\n",
      "123        499\n",
      "None       483\n",
      "PENDING    468\n",
      "Invalid    453\n",
      "FAILED     434\n",
      "Name: count, dtype: int64\n",
      "\n",
      "Pourcentage: status\n",
      "SUCCESS    0.210206\n",
      "123        0.168638\n",
      "None       0.163231\n",
      "PENDING    0.158162\n",
      "Invalid    0.153092\n",
      "FAILED     0.146671\n",
      "Name: proportion, dtype: float64\n"
     ]
    }
   ],
   "source": [
    "# Analyse des status\n",
    "print(\"\\nDistribution des status:\")\n",
    "print(df_transactions['status'].value_counts())\n",
    "print(\"\\nPourcentage:\", df_transactions['status'].value_counts(normalize=True))"
   ]
  },
  {
   "cell_type": "code",
   "execution_count": 22,
   "metadata": {},
   "outputs": [
    {
     "name": "stdout",
     "output_type": "stream",
     "text": [
      "\n",
      "Période couverte:\n",
      "Début: 2024-10-19 15:41:56.024692\n",
      "Fin: 2025-02-16 15:41:56.047249\n"
     ]
    }
   ],
   "source": [
    "# Analyse temporelle\n",
    "df_transactions['timestamp'] = pd.to_datetime(df_transactions['timestamp'])\n",
    "print(\"\\nPériode couverte:\")\n",
    "print(\"Début:\", df_transactions['timestamp'].min())\n",
    "print(\"Fin:\", df_transactions['timestamp'].max())"
   ]
  },
  {
   "cell_type": "markdown",
   "metadata": {},
   "source": [
    "## Analyse des relations entre Users et Transactions"
   ]
  },
  {
   "cell_type": "code",
   "execution_count": 23,
   "metadata": {},
   "outputs": [
    {
     "name": "stdout",
     "output_type": "stream",
     "text": [
      "Statistiques du nombre de transactions par utilisateur:\n",
      "count    940.000000\n",
      "mean       3.196809\n",
      "std        5.089046\n",
      "min        1.000000\n",
      "25%        2.000000\n",
      "50%        3.000000\n",
      "75%        4.000000\n",
      "max      151.000000\n",
      "dtype: float64\n"
     ]
    }
   ],
   "source": [
    "# Nombre de transactions par utilisateur\n",
    "tx_per_user = df_transactions.groupby('user_id').size()\n",
    "print(\"Statistiques du nombre de transactions par utilisateur:\")\n",
    "print(tx_per_user.describe())\n"
   ]
  },
  {
   "cell_type": "code",
   "execution_count": 24,
   "metadata": {},
   "outputs": [
    {
     "name": "stdout",
     "output_type": "stream",
     "text": [
      "\n",
      "Nombre de user_id invalides: 1\n",
      "Exemples de user_id invalides: ['u9999']\n"
     ]
    }
   ],
   "source": [
    "# Vérification des user_id invalides\n",
    "users_with_tx = set(df_transactions['user_id'])\n",
    "all_users = set(df_users['_id'])\n",
    "invalid_users = users_with_tx - all_users\n",
    "print(\"\\nNombre de user_id invalides:\", len(invalid_users))\n",
    "if len(invalid_users) > 0:\n",
    "    print(\"Exemples de user_id invalides:\", list(invalid_users)[:5])\n"
   ]
  },
  {
   "cell_type": "code",
   "execution_count": 25,
   "metadata": {},
   "outputs": [
    {
     "name": "stdout",
     "output_type": "stream",
     "text": [
      "\n",
      "Montant moyen des transactions par genre:\n",
      "gender\n",
      "123        206.230969\n",
      "Female     203.886873\n",
      "Male       221.448249\n",
      "None       197.100963\n",
      "Other      201.967764\n",
      "Unknown    199.869544\n",
      "Name: amount, dtype: float64\n"
     ]
    }
   ],
   "source": [
    "# Distribution des montants par genre\n",
    "df_merged = df_transactions.merge(df_users, left_on='user_id', right_on='_id')\n",
    "print(\"\\nMontant moyen des transactions par genre:\")\n",
    "print(df_merged.groupby('gender')['amount'].mean())"
   ]
  },
  {
   "cell_type": "markdown",
   "metadata": {},
   "source": [
    "## Visualisations"
   ]
  },
  {
   "cell_type": "code",
   "execution_count": 26,
   "metadata": {},
   "outputs": [
    {
     "data": {
      "image/png": "[encoded data removed]",
      "text/plain": [
       "<Figure size 1500x1000 with 4 Axes>"
      ]
     },
     "metadata": {},
     "output_type": "display_data"
    }
   ],
   "source": [
    "import matplotlib.pyplot as plt\n",
    "import seaborn as sns\n",
    "plt.figure(figsize=(15, 10))\n",
    "\n",
    "# Distribution des montants\n",
    "plt.subplot(2, 2, 1)\n",
    "sns.histplot(data=df_transactions, x='amount', bins=50)\n",
    "plt.title('Distribution des montants')\n",
    "\n",
    "# Transactions par status\n",
    "plt.subplot(2, 2, 2)\n",
    "sns.countplot(data=df_transactions, x='status')\n",
    "plt.title('Nombre de transactions par status')\n",
    "\n",
    "# Distribution des genres\n",
    "plt.subplot(2, 2, 3)\n",
    "sns.countplot(data=df_users, x='gender')\n",
    "plt.title('Distribution des genres')\n",
    "\n",
    "# Transactions par jour\n",
    "plt.subplot(2, 2, 4)\n",
    "df_transactions['date'] = df_transactions['timestamp'].dt.date\n",
    "daily_tx = df_transactions.groupby('date').size()\n",
    "plt.plot(daily_tx.index, daily_tx.values)\n",
    "plt.title('Nombre de transactions par jour')\n",
    "plt.xticks(rotation=45)\n",
    "\n",
    "plt.tight_layout()\n",
    "plt.show()"
   ]
  },
  {
   "cell_type": "markdown",
   "metadata": {},
   "source": [
    " Analyse des patterns dans les emails"
   ]
  },
  {
   "cell_type": "code",
   "execution_count": 28,
   "metadata": {},
   "outputs": [
    {
     "name": "stdout",
     "output_type": "stream",
     "text": [
      "Top 20 des domaines d'email:\n",
      "email\n",
      "example.net       325\n",
      "example.org       302\n",
      "example.com       286\n",
      "domain             21\n",
      ".com               17\n",
      "site                2\n",
      "thing               1\n",
      "threat              1\n",
      "million             1\n",
      "travel              1\n",
      "research            1\n",
      "alone               1\n",
      "administration      1\n",
      "our                 1\n",
      "than                1\n",
      "whose               1\n",
      "away                1\n",
      "send                1\n",
      "wall                1\n",
      "day                 1\n",
      "Name: count, dtype: int64\n",
      "\n",
      "Types d'erreurs dans les emails:\n",
      "email\n",
      "valid             913\n",
      "no_domain          48\n",
      "no_at_symbol       22\n",
      "invalid_format     17\n",
      "Name: count, dtype: int64\n"
     ]
    }
   ],
   "source": [
    "import re \n",
    "\n",
    "# Distribution des domaines d'email\n",
    "email_domains = df_users['email'].str.split('@').str[1]\n",
    "print(\"Top 20 des domaines d'email:\")\n",
    "print(email_domains.value_counts().head(20))\n",
    "\n",
    "# Patterns d'emails invalides\n",
    "def analyze_email_pattern(email):\n",
    "    if pd.isna(email):\n",
    "        return 'missing'\n",
    "    if '@' not in email:\n",
    "        return 'no_at_symbol'\n",
    "    if '.' not in email:\n",
    "        return 'no_domain'\n",
    "    if not re.match(r'^[a-zA-Z0-9._%+-]+@[a-zA-Z0-9.-]+\\.[a-zA-Z]{2,}$', email):\n",
    "        return 'invalid_format'\n",
    "    return 'valid'\n",
    "\n",
    "email_patterns = df_users['email'].apply(analyze_email_pattern)\n",
    "print(\"\\nTypes d'erreurs dans les emails:\")\n",
    "print(email_patterns.value_counts())"
   ]
  },
  {
   "cell_type": "markdown",
   "metadata": {},
   "source": [
    "Analyse des numéros de téléphone"
   ]
  },
  {
   "cell_type": "code",
   "execution_count": 29,
   "metadata": {},
   "outputs": [
    {
     "name": "stdout",
     "output_type": "stream",
     "text": [
      "Préfixes les plus courants:\n",
      "phone\n",
      "001-    144\n",
      "abcd     28\n",
      "+123     27\n",
      "+1-6     24\n",
      "         24\n",
      "Name: count, dtype: int64\n",
      "\n",
      "Nombre de caractères spéciaux par numéro:\n",
      "phone\n",
      "3     374\n",
      "4     323\n",
      "0     145\n",
      "2     130\n",
      "14     28\n",
      "Name: count, dtype: int64\n",
      "\n",
      "Conformité au format algérien (+213):\n",
      "Conformes: 0\n",
      "Non conformes: 1000\n"
     ]
    }
   ],
   "source": [
    "# Patterns de début de numéro\n",
    "phone_prefixes = df_users['phone'].str[:4].value_counts()\n",
    "print(\"Préfixes les plus courants:\")\n",
    "print(phone_prefixes.head())\n",
    "\n",
    "# Analyse des caractères spéciaux\n",
    "special_chars = df_users['phone'].str.findall(r'[^0-9+]').str.len()\n",
    "print(\"\\nNombre de caractères spéciaux par numéro:\")\n",
    "print(special_chars.value_counts())\n",
    "\n",
    "# Conformité au format algérien\n",
    "algerian_format = df_users['phone'].str.match(r'^\\+213[0-9]{9}$')\n",
    "print(\"\\nConformité au format algérien (+213):\")\n",
    "print(f\"Conformes: {algerian_format.sum()}\")\n",
    "print(f\"Non conformes: {len(algerian_format) - algerian_format.sum()}\")"
   ]
  },
  {
   "cell_type": "markdown",
   "metadata": {},
   "source": [
    " Analyse temporelle des transactions"
   ]
  },
  {
   "cell_type": "code",
   "execution_count": 30,
   "metadata": {},
   "outputs": [
    {
     "name": "stdout",
     "output_type": "stream",
     "text": [
      "=== ANALYSE DES CORRÉLATIONS ET PATTERNS ===\n",
      "\n",
      "Statistiques des montants par genre:\n",
      "               mean   median         std  count\n",
      "gender                                         \n",
      "123      206.230969  210.985  186.555357    454\n",
      "Female   203.886873  224.210  190.954247    403\n",
      "Male     221.448249  229.840  179.814291    434\n",
      "None     197.100963  206.175  200.210217    540\n",
      "Other    201.967764  204.460  197.191358    501\n",
      "Unknown  199.869544  212.155  189.881444    482\n",
      "\n",
      "Distribution des status par genre:\n",
      "status   123  FAILED  Invalid  None  PENDING  SUCCESS\n",
      "gender                                               \n",
      "123       89      64       66    73       71       92\n",
      "Female    59      63       63    70       62       87\n",
      "Male      71      69       72    78       60       89\n",
      "None      88      81       82    83       87      116\n",
      "Other     91      69       80    82       77       96\n",
      "Unknown   80      73       65    77       78      107\n",
      "\n",
      "Distribution horaire des transactions par genre:\n",
      "hour     15.0\n",
      "gender       \n",
      "123       454\n",
      "Female    406\n",
      "Male      437\n",
      "None      539\n",
      "Other     495\n",
      "Unknown   478\n"
     ]
    }
   ],
   "source": [
    "df_merged = df_transactions.merge(df_users, left_on='user_id', right_on='_id')\n",
    "\n",
    "print(\"=== ANALYSE DES CORRÉLATIONS ET PATTERNS ===\\n\")\n",
    "\n",
    "# Relation entre genre et montant\n",
    "gender_amount_stats = df_merged.groupby('gender')['amount'].agg(['mean', 'median', 'std', 'count'])\n",
    "print(\"Statistiques des montants par genre:\")\n",
    "print(gender_amount_stats)\n",
    "\n",
    "# Status des transactions par genre\n",
    "gender_status_cross = pd.crosstab(df_merged['gender'], df_merged['status'])\n",
    "print(\"\\nDistribution des status par genre:\")\n",
    "print(gender_status_cross)\n",
    "\n",
    "# Analyse temporelle par genre\n",
    "df_merged['hour'] = pd.to_datetime(df_merged['timestamp']).dt.hour\n",
    "gender_hour_cross = pd.crosstab(df_merged['gender'], df_merged['hour'])\n",
    "print(\"\\nDistribution horaire des transactions par genre:\")\n",
    "print(gender_hour_cross)"
   ]
  },
  {
   "cell_type": "markdown",
   "metadata": {},
   "source": [
    "Analyse des comportements utilisateurs"
   ]
  },
  {
   "cell_type": "code",
   "execution_count": 31,
   "metadata": {},
   "outputs": [
    {
     "name": "stdout",
     "output_type": "stream",
     "text": [
      "=== ANALYSE DES COMPORTEMENTS UTILISATEURS ===\n",
      "\n",
      "Statistiques de fréquence des transactions:\n",
      "count    940.000000\n",
      "mean       3.196809\n",
      "std        5.089046\n",
      "min        1.000000\n",
      "25%        2.000000\n",
      "50%        3.000000\n",
      "75%        4.000000\n",
      "max      151.000000\n",
      "dtype: float64\n",
      "\n",
      "Statistiques des montants moyens par utilisateur:\n",
      "count    939.000000\n",
      "mean     204.776943\n",
      "std      128.972356\n",
      "min     -424.980000\n",
      "25%      127.488333\n",
      "50%      214.521667\n",
      "75%      291.971250\n",
      "max      499.460000\n",
      "Name: amount, dtype: float64\n",
      "\n",
      "Utilisateurs avec des montants moyens élevés (top 5%):\n",
      "user_id\n",
      "u107    499.02\n",
      "u12     419.48\n",
      "u127    422.48\n",
      "u135    483.17\n",
      "u136    449.96\n",
      "Name: amount, dtype: float64\n"
     ]
    }
   ],
   "source": [
    "print(\"=== ANALYSE DES COMPORTEMENTS UTILISATEURS ===\\n\")\n",
    "\n",
    "# Fréquence des transactions\n",
    "user_tx_freq = df_transactions.groupby('user_id').size()\n",
    "print(\"Statistiques de fréquence des transactions:\")\n",
    "print(user_tx_freq.describe())\n",
    "\n",
    "# Montants moyens par utilisateur\n",
    "user_avg_amount = df_transactions.groupby('user_id')['amount'].mean()\n",
    "print(\"\\nStatistiques des montants moyens par utilisateur:\")\n",
    "print(user_avg_amount.describe())\n",
    "\n",
    "# Identification des utilisateurs avec comportements atypiques\n",
    "high_value_users = user_avg_amount[user_avg_amount > user_avg_amount.quantile(0.95)]\n",
    "print(\"\\nUtilisateurs avec des montants moyens élevés (top 5%):\")\n",
    "print(high_value_users.head())"
   ]
  }
 ],
 "metadata": {
  "kernelspec": {
   "display_name": "Python 3",
   "language": "python",
   "name": "python3"
  },
  "language_info": {
   "codemirror_mode": {
    "name": "ipython",
    "version": 3
   },
   "file_extension": ".py",
   "mimetype": "text/x-python",
   "name": "python",
   "nbconvert_exporter": "python",
   "pygments_lexer": "ipython3",
   "version": "3.12.3"
  }
 },
 "nbformat": 4,
 "nbformat_minor": 2
}
